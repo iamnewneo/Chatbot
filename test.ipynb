{
 "cells": [
  {
   "cell_type": "code",
   "execution_count": 63,
   "metadata": {
    "collapsed": true
   },
   "outputs": [],
   "source": [
    "import pandas as pd\n",
    "import warnings\n",
    "import numpy as np\n",
    "warnings.filterwarnings('ignore')"
   ]
  },
  {
   "cell_type": "code",
   "execution_count": 50,
   "metadata": {
    "collapsed": false
   },
   "outputs": [],
   "source": [
    "columns=['questions','recharge_type']\n",
    "data = pd.read_csv('./questions.txt',sep='|',names=columns)"
   ]
  },
  {
   "cell_type": "code",
   "execution_count": 51,
   "metadata": {
    "collapsed": false
   },
   "outputs": [
    {
     "data": {
      "text/plain": [
       "0     What are the latest offers for Vodafone prepai...\n",
       "1           What is the cheapest pack for 4g internet? \n",
       "2        Which is the best mobile operator at present? \n",
       "3     Any combo offer with both talktime and 3g inte...\n",
       "4     Do you have a message card for less than Rs.50...\n",
       "5     Which mobile operator has the best deal for ST...\n",
       "6     Which mobile operator has the best deal for ro...\n",
       "7     Which mobile operator has the best deal for IS...\n",
       "8     Which mobile operator has the best deal for 3G...\n",
       "9     Which mobile operator provides the cheapest si...\n",
       "10    Which mobile operator has the best in-app offe...\n",
       "11    Are there any combo offers available for both ...\n",
       "12    Can I have the customer care number for Airtel...\n",
       "13    Can I get the details of all the offers for Vo...\n",
       "14    Which is the most used offer in Idea mobile op...\n",
       "15          Do you have any offers with full talktime? \n",
       "16    Which mobile operator gives the best loan offe...\n",
       "17    Which is the cheapest 2g internet pack availab...\n",
       "18    Which are the latest offers for Vodafone mobil...\n",
       "19           Can I have a family pack for 4g internet? \n",
       "20                          Please recharge for Rs.50. \n",
       "21       Please give me the cheapest 2g internet pack. \n",
       "22                    I want a message card for Rs.35. \n",
       "23               I want a 3g internet pack for Rs.255. \n",
       "24                            I want a 250 mb 3g pack. \n",
       "25                 I want a full talktime for Rs. 200. \n",
       "26       I want a talktime and 3g internet combo pack. \n",
       "27                           I want an Airtel 4g pack. \n",
       "28             I want a Vodafone 3g pack worth Rs.100. \n",
       "29              I want a free roaming pack for Rs.100. \n",
       "                            ...                        \n",
       "46                   What are the call rates for idea? \n",
       "47          What are the combo plans provided by idea? \n",
       "48    What are the postpaid plans offered by airtel?   \n",
       "49        What are the postpaid plans offered by idea? \n",
       "50    What are the postpaid plans offered by vodafone? \n",
       "51    What is the amount of talktime received in vod...\n",
       "52    What is the amount of talktime received in ide...\n",
       "53      Activate the rupees 99 3G data pack on airtel. \n",
       "54    What are the terms for renewing an airtel post...\n",
       "55    What are the terms for renewing a vodafone pos...\n",
       "56    What are the terms for renewing an idea postpa...\n",
       "57         What is the rate of VAT charges in airtel?  \n",
       "58        What is the rate of VAT charges in vodafone? \n",
       "59           What is the rate of VAT cahrges in idea?  \n",
       "60                              Make a recharge of ₹50 \n",
       "61            Give me a sim card that starts with 9999 \n",
       "62      Recharge 1GB net card on my number: 8693740273 \n",
       "63    Change my service provider from Vodafone to Ai...\n",
       "64                   Want to pay my Mobil bill of ₹600 \n",
       "65                                  Net card under 100 \n",
       "66                    Which is the cheapest 3G network \n",
       "67          What type of plans Airtel's My plan offers \n",
       "68                   Validity of Airtel's ₹50 recharge \n",
       "69               Full talk time under ₹300 in Vodafone \n",
       "70               Cost of Airtel's roaming roaming pack \n",
       "71              Procedure to change telephone operator \n",
       "72    Procedure to convert prepaid number to postpai...\n",
       "73                                 Cost of VIP numbers \n",
       "74              How to increase validity of a recharge \n",
       "75               Cost required to lower the call rates \n",
       "Name: questions, dtype: object"
      ]
     },
     "execution_count": 51,
     "metadata": {},
     "output_type": "execute_result"
    }
   ],
   "source": [
    "data['questions']"
   ]
  },
  {
   "cell_type": "code",
   "execution_count": 52,
   "metadata": {
    "collapsed": true
   },
   "outputs": [],
   "source": [
    "def shuffle(df, n=1, axis=0):\n",
    "    df = df.copy()\n",
    "    for _ in range(n):\n",
    "        df.apply(np.random.shuffle,axis=axis)\n",
    "    return df"
   ]
  },
  {
   "cell_type": "code",
   "execution_count": 53,
   "metadata": {
    "collapsed": false
   },
   "outputs": [],
   "source": [
    "data = data.reindex(np.random.permutation(data.index))"
   ]
  },
  {
   "cell_type": "code",
   "execution_count": 54,
   "metadata": {
    "collapsed": false
   },
   "outputs": [
    {
     "data": {
      "text/html": [
       "<div>\n",
       "<table border=\"1\" class=\"dataframe\">\n",
       "  <thead>\n",
       "    <tr style=\"text-align: right;\">\n",
       "      <th></th>\n",
       "      <th>questions</th>\n",
       "      <th>recharge_type</th>\n",
       "    </tr>\n",
       "  </thead>\n",
       "  <tbody>\n",
       "    <tr>\n",
       "      <th>46</th>\n",
       "      <td>What are the call rates for idea?</td>\n",
       "      <td>0</td>\n",
       "    </tr>\n",
       "    <tr>\n",
       "      <th>71</th>\n",
       "      <td>Procedure to change telephone operator</td>\n",
       "      <td>0</td>\n",
       "    </tr>\n",
       "    <tr>\n",
       "      <th>65</th>\n",
       "      <td>Net card under 100</td>\n",
       "      <td>0</td>\n",
       "    </tr>\n",
       "    <tr>\n",
       "      <th>59</th>\n",
       "      <td>What is the rate of VAT cahrges in idea?</td>\n",
       "      <td>0</td>\n",
       "    </tr>\n",
       "    <tr>\n",
       "      <th>58</th>\n",
       "      <td>What is the rate of VAT charges in vodafone?</td>\n",
       "      <td>0</td>\n",
       "    </tr>\n",
       "    <tr>\n",
       "      <th>67</th>\n",
       "      <td>What type of plans Airtel's My plan offers</td>\n",
       "      <td>0</td>\n",
       "    </tr>\n",
       "    <tr>\n",
       "      <th>5</th>\n",
       "      <td>Which mobile operator has the best deal for ST...</td>\n",
       "      <td>0</td>\n",
       "    </tr>\n",
       "    <tr>\n",
       "      <th>57</th>\n",
       "      <td>What is the rate of VAT charges in airtel?</td>\n",
       "      <td>0</td>\n",
       "    </tr>\n",
       "    <tr>\n",
       "      <th>18</th>\n",
       "      <td>Which are the latest offers for Vodafone mobil...</td>\n",
       "      <td>0</td>\n",
       "    </tr>\n",
       "    <tr>\n",
       "      <th>17</th>\n",
       "      <td>Which is the cheapest 2g internet pack availab...</td>\n",
       "      <td>0</td>\n",
       "    </tr>\n",
       "    <tr>\n",
       "      <th>27</th>\n",
       "      <td>I want an Airtel 4g pack.</td>\n",
       "      <td>1</td>\n",
       "    </tr>\n",
       "    <tr>\n",
       "      <th>21</th>\n",
       "      <td>Please give me the cheapest 2g internet pack.</td>\n",
       "      <td>1</td>\n",
       "    </tr>\n",
       "    <tr>\n",
       "      <th>56</th>\n",
       "      <td>What are the terms for renewing an idea postpa...</td>\n",
       "      <td>0</td>\n",
       "    </tr>\n",
       "    <tr>\n",
       "      <th>11</th>\n",
       "      <td>Are there any combo offers available for both ...</td>\n",
       "      <td>0</td>\n",
       "    </tr>\n",
       "    <tr>\n",
       "      <th>15</th>\n",
       "      <td>Do you have any offers with full talktime?</td>\n",
       "      <td>0</td>\n",
       "    </tr>\n",
       "    <tr>\n",
       "      <th>60</th>\n",
       "      <td>Make a recharge of ₹50</td>\n",
       "      <td>1</td>\n",
       "    </tr>\n",
       "    <tr>\n",
       "      <th>9</th>\n",
       "      <td>Which mobile operator provides the cheapest si...</td>\n",
       "      <td>0</td>\n",
       "    </tr>\n",
       "    <tr>\n",
       "      <th>66</th>\n",
       "      <td>Which is the cheapest 3G network</td>\n",
       "      <td>0</td>\n",
       "    </tr>\n",
       "    <tr>\n",
       "      <th>20</th>\n",
       "      <td>Please recharge for Rs.50.</td>\n",
       "      <td>1</td>\n",
       "    </tr>\n",
       "    <tr>\n",
       "      <th>52</th>\n",
       "      <td>What is the amount of talktime received in ide...</td>\n",
       "      <td>0</td>\n",
       "    </tr>\n",
       "    <tr>\n",
       "      <th>64</th>\n",
       "      <td>Want to pay my Mobil bill of ₹600</td>\n",
       "      <td>1</td>\n",
       "    </tr>\n",
       "    <tr>\n",
       "      <th>45</th>\n",
       "      <td>What are the call rates for vodafone?</td>\n",
       "      <td>0</td>\n",
       "    </tr>\n",
       "    <tr>\n",
       "      <th>51</th>\n",
       "      <td>What is the amount of talktime received in vod...</td>\n",
       "      <td>0</td>\n",
       "    </tr>\n",
       "    <tr>\n",
       "      <th>53</th>\n",
       "      <td>Activate the rupees 99 3G data pack on airtel.</td>\n",
       "      <td>1</td>\n",
       "    </tr>\n",
       "    <tr>\n",
       "      <th>48</th>\n",
       "      <td>What are the postpaid plans offered by airtel?</td>\n",
       "      <td>0</td>\n",
       "    </tr>\n",
       "    <tr>\n",
       "      <th>26</th>\n",
       "      <td>I want a talktime and 3g internet combo pack.</td>\n",
       "      <td>1</td>\n",
       "    </tr>\n",
       "    <tr>\n",
       "      <th>28</th>\n",
       "      <td>I want a Vodafone 3g pack worth Rs.100.</td>\n",
       "      <td>1</td>\n",
       "    </tr>\n",
       "    <tr>\n",
       "      <th>47</th>\n",
       "      <td>What are the combo plans provided by idea?</td>\n",
       "      <td>0</td>\n",
       "    </tr>\n",
       "    <tr>\n",
       "      <th>6</th>\n",
       "      <td>Which mobile operator has the best deal for ro...</td>\n",
       "      <td>0</td>\n",
       "    </tr>\n",
       "    <tr>\n",
       "      <th>10</th>\n",
       "      <td>Which mobile operator has the best in-app offe...</td>\n",
       "      <td>0</td>\n",
       "    </tr>\n",
       "    <tr>\n",
       "      <th>...</th>\n",
       "      <td>...</td>\n",
       "      <td>...</td>\n",
       "    </tr>\n",
       "    <tr>\n",
       "      <th>4</th>\n",
       "      <td>Do you have a message card for less than Rs.50...</td>\n",
       "      <td>0</td>\n",
       "    </tr>\n",
       "    <tr>\n",
       "      <th>68</th>\n",
       "      <td>Validity of Airtel's ₹50 recharge</td>\n",
       "      <td>0</td>\n",
       "    </tr>\n",
       "    <tr>\n",
       "      <th>43</th>\n",
       "      <td>What are the call rates for airtel?</td>\n",
       "      <td>0</td>\n",
       "    </tr>\n",
       "    <tr>\n",
       "      <th>62</th>\n",
       "      <td>Recharge 1GB net card on my number: 8693740273</td>\n",
       "      <td>1</td>\n",
       "    </tr>\n",
       "    <tr>\n",
       "      <th>50</th>\n",
       "      <td>What are the postpaid plans offered by vodafone?</td>\n",
       "      <td>0</td>\n",
       "    </tr>\n",
       "    <tr>\n",
       "      <th>40</th>\n",
       "      <td>What are the romaing charges applied by idea?</td>\n",
       "      <td>0</td>\n",
       "    </tr>\n",
       "    <tr>\n",
       "      <th>3</th>\n",
       "      <td>Any combo offer with both talktime and 3g inte...</td>\n",
       "      <td>0</td>\n",
       "    </tr>\n",
       "    <tr>\n",
       "      <th>24</th>\n",
       "      <td>I want a 250 mb 3g pack.</td>\n",
       "      <td>1</td>\n",
       "    </tr>\n",
       "    <tr>\n",
       "      <th>38</th>\n",
       "      <td>What are the data plans provided by airtel?</td>\n",
       "      <td>0</td>\n",
       "    </tr>\n",
       "    <tr>\n",
       "      <th>34</th>\n",
       "      <td>Recharge my vodafone number with 150 rupees.</td>\n",
       "      <td>1</td>\n",
       "    </tr>\n",
       "    <tr>\n",
       "      <th>22</th>\n",
       "      <td>I want a message card for Rs.35.</td>\n",
       "      <td>1</td>\n",
       "    </tr>\n",
       "    <tr>\n",
       "      <th>8</th>\n",
       "      <td>Which mobile operator has the best deal for 3G...</td>\n",
       "      <td>0</td>\n",
       "    </tr>\n",
       "    <tr>\n",
       "      <th>14</th>\n",
       "      <td>Which is the most used offer in Idea mobile op...</td>\n",
       "      <td>0</td>\n",
       "    </tr>\n",
       "    <tr>\n",
       "      <th>44</th>\n",
       "      <td>What are the data plans provided by idea?</td>\n",
       "      <td>0</td>\n",
       "    </tr>\n",
       "    <tr>\n",
       "      <th>30</th>\n",
       "      <td>Recharge my airtel number with 200 rupees.</td>\n",
       "      <td>1</td>\n",
       "    </tr>\n",
       "    <tr>\n",
       "      <th>29</th>\n",
       "      <td>I want a free roaming pack for Rs.100.</td>\n",
       "      <td>1</td>\n",
       "    </tr>\n",
       "    <tr>\n",
       "      <th>74</th>\n",
       "      <td>How to increase validity of a recharge</td>\n",
       "      <td>0</td>\n",
       "    </tr>\n",
       "    <tr>\n",
       "      <th>42</th>\n",
       "      <td>What are the combo plans provided by airtel?</td>\n",
       "      <td>0</td>\n",
       "    </tr>\n",
       "    <tr>\n",
       "      <th>12</th>\n",
       "      <td>Can I have the customer care number for Airtel...</td>\n",
       "      <td>0</td>\n",
       "    </tr>\n",
       "    <tr>\n",
       "      <th>23</th>\n",
       "      <td>I want a 3g internet pack for Rs.255.</td>\n",
       "      <td>1</td>\n",
       "    </tr>\n",
       "    <tr>\n",
       "      <th>41</th>\n",
       "      <td>What are the data plans provided by vodafone?</td>\n",
       "      <td>0</td>\n",
       "    </tr>\n",
       "    <tr>\n",
       "      <th>19</th>\n",
       "      <td>Can I have a family pack for 4g internet?</td>\n",
       "      <td>0</td>\n",
       "    </tr>\n",
       "    <tr>\n",
       "      <th>72</th>\n",
       "      <td>Procedure to convert prepaid number to postpai...</td>\n",
       "      <td>0</td>\n",
       "    </tr>\n",
       "    <tr>\n",
       "      <th>54</th>\n",
       "      <td>What are the terms for renewing an airtel post...</td>\n",
       "      <td>0</td>\n",
       "    </tr>\n",
       "    <tr>\n",
       "      <th>16</th>\n",
       "      <td>Which mobile operator gives the best loan offe...</td>\n",
       "      <td>0</td>\n",
       "    </tr>\n",
       "    <tr>\n",
       "      <th>13</th>\n",
       "      <td>Can I get the details of all the offers for Vo...</td>\n",
       "      <td>0</td>\n",
       "    </tr>\n",
       "    <tr>\n",
       "      <th>25</th>\n",
       "      <td>I want a full talktime for Rs. 200.</td>\n",
       "      <td>1</td>\n",
       "    </tr>\n",
       "    <tr>\n",
       "      <th>61</th>\n",
       "      <td>Give me a sim card that starts with 9999</td>\n",
       "      <td>1</td>\n",
       "    </tr>\n",
       "    <tr>\n",
       "      <th>0</th>\n",
       "      <td>What are the latest offers for Vodafone prepai...</td>\n",
       "      <td>0</td>\n",
       "    </tr>\n",
       "    <tr>\n",
       "      <th>33</th>\n",
       "      <td>Recharge my number, 8882167890.</td>\n",
       "      <td>1</td>\n",
       "    </tr>\n",
       "  </tbody>\n",
       "</table>\n",
       "<p>76 rows × 2 columns</p>\n",
       "</div>"
      ],
      "text/plain": [
       "                                            questions  recharge_type\n",
       "46                 What are the call rates for idea?               0\n",
       "71            Procedure to change telephone operator               0\n",
       "65                                Net card under 100               0\n",
       "59         What is the rate of VAT cahrges in idea?                0\n",
       "58      What is the rate of VAT charges in vodafone?               0\n",
       "67        What type of plans Airtel's My plan offers               0\n",
       "5   Which mobile operator has the best deal for ST...              0\n",
       "57       What is the rate of VAT charges in airtel?                0\n",
       "18  Which are the latest offers for Vodafone mobil...              0\n",
       "17  Which is the cheapest 2g internet pack availab...              0\n",
       "27                         I want an Airtel 4g pack.               1\n",
       "21     Please give me the cheapest 2g internet pack.               1\n",
       "56  What are the terms for renewing an idea postpa...              0\n",
       "11  Are there any combo offers available for both ...              0\n",
       "15        Do you have any offers with full talktime?               0\n",
       "60                            Make a recharge of ₹50               1\n",
       "9   Which mobile operator provides the cheapest si...              0\n",
       "66                  Which is the cheapest 3G network               0\n",
       "20                        Please recharge for Rs.50.               1\n",
       "52  What is the amount of talktime received in ide...              0\n",
       "64                 Want to pay my Mobil bill of ₹600               1\n",
       "45             What are the call rates for vodafone?               0\n",
       "51  What is the amount of talktime received in vod...              0\n",
       "53    Activate the rupees 99 3G data pack on airtel.               1\n",
       "48  What are the postpaid plans offered by airtel?                 0\n",
       "26     I want a talktime and 3g internet combo pack.               1\n",
       "28           I want a Vodafone 3g pack worth Rs.100.               1\n",
       "47        What are the combo plans provided by idea?               0\n",
       "6   Which mobile operator has the best deal for ro...              0\n",
       "10  Which mobile operator has the best in-app offe...              0\n",
       "..                                                ...            ...\n",
       "4   Do you have a message card for less than Rs.50...              0\n",
       "68                 Validity of Airtel's ₹50 recharge               0\n",
       "43               What are the call rates for airtel?               0\n",
       "62    Recharge 1GB net card on my number: 8693740273               1\n",
       "50  What are the postpaid plans offered by vodafone?               0\n",
       "40     What are the romaing charges applied by idea?               0\n",
       "3   Any combo offer with both talktime and 3g inte...              0\n",
       "24                          I want a 250 mb 3g pack.               1\n",
       "38       What are the data plans provided by airtel?               0\n",
       "34      Recharge my vodafone number with 150 rupees.               1\n",
       "22                  I want a message card for Rs.35.               1\n",
       "8   Which mobile operator has the best deal for 3G...              0\n",
       "14  Which is the most used offer in Idea mobile op...              0\n",
       "44         What are the data plans provided by idea?               0\n",
       "30        Recharge my airtel number with 200 rupees.               1\n",
       "29            I want a free roaming pack for Rs.100.               1\n",
       "74            How to increase validity of a recharge               0\n",
       "42      What are the combo plans provided by airtel?               0\n",
       "12  Can I have the customer care number for Airtel...              0\n",
       "23             I want a 3g internet pack for Rs.255.               1\n",
       "41     What are the data plans provided by vodafone?               0\n",
       "19         Can I have a family pack for 4g internet?               0\n",
       "72  Procedure to convert prepaid number to postpai...              0\n",
       "54  What are the terms for renewing an airtel post...              0\n",
       "16  Which mobile operator gives the best loan offe...              0\n",
       "13  Can I get the details of all the offers for Vo...              0\n",
       "25               I want a full talktime for Rs. 200.               1\n",
       "61          Give me a sim card that starts with 9999               1\n",
       "0   What are the latest offers for Vodafone prepai...              0\n",
       "33                   Recharge my number, 8882167890.               1\n",
       "\n",
       "[76 rows x 2 columns]"
      ]
     },
     "execution_count": 54,
     "metadata": {},
     "output_type": "execute_result"
    }
   ],
   "source": [
    "data"
   ]
  },
  {
   "cell_type": "code",
   "execution_count": 60,
   "metadata": {
    "collapsed": false
   },
   "outputs": [],
   "source": [
    "X_train = data['questions'][:50].as_matrix()\n",
    "y_train = data['recharge_type'][:50].as_matrix()\n",
    "X_test = data['questions'][50:].as_matrix()\n",
    "y_test = data['recharge_type'][50:].as_matrix()"
   ]
  },
  {
   "cell_type": "code",
   "execution_count": 61,
   "metadata": {
    "collapsed": false
   },
   "outputs": [
    {
     "data": {
      "text/plain": [
       "(array(['What are the call rates for idea? ',\n",
       "        'Procedure to change telephone operator ', 'Net card under 100 ',\n",
       "        'What is the rate of VAT cahrges in idea?  ',\n",
       "        'What is the rate of VAT charges in vodafone? ',\n",
       "        \"What type of plans Airtel's My plan offers \",\n",
       "        'Which mobile operator has the best deal for STD calls? ',\n",
       "        'What is the rate of VAT charges in airtel?  ',\n",
       "        'Which are the latest offers for Vodafone mobile operator? ',\n",
       "        'Which is the cheapest 2g internet pack available? ',\n",
       "        'I want an Airtel 4g pack. ',\n",
       "        'Please give me the cheapest 2g internet pack. ',\n",
       "        'What are the terms for renewing an idea postpaid number? ',\n",
       "        'Are there any combo offers available for both STD and roaming? ',\n",
       "        'Do you have any offers with full talktime? ',\n",
       "        'Make a recharge of ₹50 ',\n",
       "        'Which mobile operator provides the cheapest sim card? ',\n",
       "        'Which is the cheapest 3G network ', 'Please recharge for Rs.50. ',\n",
       "        'What is the amount of talktime received in idea on a recharge of rupees 100?  ',\n",
       "        'Want to pay my Mobil bill of ₹600 ',\n",
       "        'What are the call rates for vodafone? ',\n",
       "        'What is the amount of talktime received in vodafone on a recharge of rupees 100? ',\n",
       "        'Activate the rupees 99 3G data pack on airtel. ',\n",
       "        'What are the postpaid plans offered by airtel?   ',\n",
       "        'I want a talktime and 3g internet combo pack. ',\n",
       "        'I want a Vodafone 3g pack worth Rs.100. ',\n",
       "        'What are the combo plans provided by idea? ',\n",
       "        'Which mobile operator has the best deal for roaming? ',\n",
       "        'Which mobile operator has the best in-app offers? ',\n",
       "        'Which mobile operator has the best deal for IST calls? ',\n",
       "        'What are the terms for renewing a vodafone postpaid number? ',\n",
       "        'Recharge my number, 9871048821. ',\n",
       "        'Recharge my idea number with 200 rupees. ',\n",
       "        'Cost required to lower the call rates ',\n",
       "        'Which is the best mobile operator at present? ',\n",
       "        'Change my service provider from Vodafone to Airtel ',\n",
       "        'What are the postpaid plans offered by idea? ',\n",
       "        'Cost of VIP numbers ', 'Recharge my idea number with 100 rupees. ',\n",
       "        \"Cost of Airtel's roaming roaming pack \",\n",
       "        'What is the cheapest pack for 4g internet? ',\n",
       "        'Full talk time under ₹300 in Vodafone ',\n",
       "        'Recharge my number, 7540056567. ',\n",
       "        'What are the combo plans provided by vodafone? ',\n",
       "        'What is the amount of talktime received in airtel on a recharge of rupees 100? ',\n",
       "        'Do you have a message card for less than Rs.50 for Idea operator. ',\n",
       "        \"Validity of Airtel's ₹50 recharge \",\n",
       "        'What are the call rates for airtel? ',\n",
       "        'Recharge 1GB net card on my number: 8693740273 '], dtype=object),\n",
       " array([0, 0, 0, 0, 0, 0, 0, 0, 0, 0, 1, 1, 0, 0, 0, 1, 0, 0, 1, 0, 1, 0, 0,\n",
       "        1, 0, 1, 1, 0, 0, 0, 0, 0, 1, 1, 0, 0, 1, 0, 0, 1, 0, 0, 0, 1, 0, 0,\n",
       "        0, 0, 0, 1]))"
      ]
     },
     "execution_count": 61,
     "metadata": {},
     "output_type": "execute_result"
    }
   ],
   "source": [
    "X_train,y_train"
   ]
  },
  {
   "cell_type": "code",
   "execution_count": 65,
   "metadata": {
    "collapsed": false
   },
   "outputs": [],
   "source": [
    "from sklearn.pipeline import Pipeline\n",
    "from sklearn.naive_bayes import MultinomialNB\n",
    "from sklearn.feature_extraction.text import TfidfTransformer\n",
    "from sklearn.feature_extraction.text import CountVectorizer"
   ]
  },
  {
   "cell_type": "code",
   "execution_count": 66,
   "metadata": {
    "collapsed": true
   },
   "outputs": [],
   "source": [
    "text_clf = Pipeline([('vect',CountVectorizer()),('tfidf',TfidfTransformer()),('clf',MultinomialNB())])"
   ]
  },
  {
   "cell_type": "code",
   "execution_count": 67,
   "metadata": {
    "collapsed": true
   },
   "outputs": [],
   "source": [
    "text_clf = text_clf.fit(X_train,y_train)"
   ]
  },
  {
   "cell_type": "code",
   "execution_count": 68,
   "metadata": {
    "collapsed": false
   },
   "outputs": [
    {
     "data": {
      "text/plain": [
       "0.88461538461538458"
      ]
     },
     "execution_count": 68,
     "metadata": {},
     "output_type": "execute_result"
    }
   ],
   "source": [
    "predicted = text_clf.predict(X_test)\n",
    "np.mean(predicted == y_test)"
   ]
  },
  {
   "cell_type": "code",
   "execution_count": 70,
   "metadata": {
    "collapsed": false
   },
   "outputs": [],
   "source": [
    "from sklearn.linear_model import SGDClassifier\n",
    "new_text_clf = Pipeline([('vect',CountVectorizer()),('tfidf',TfidfTransformer()),('clf',SGDClassifier(loss='hinge',penalty='l2',alpha=1e-2,n_iter=5,random_state=42))])"
   ]
  },
  {
   "cell_type": "code",
   "execution_count": 73,
   "metadata": {
    "collapsed": false
   },
   "outputs": [
    {
     "data": {
      "text/plain": [
       "Pipeline(steps=[('vect', CountVectorizer(analyzer='word', binary=False, decode_error='strict',\n",
       "        dtype=<class 'numpy.int64'>, encoding='utf-8', input='content',\n",
       "        lowercase=True, max_df=1.0, max_features=None, min_df=1,\n",
       "        ngram_range=(1, 1), preprocessor=None, stop_words=None,\n",
       "        strip...     penalty='l2', power_t=0.5, random_state=42, shuffle=True, verbose=0,\n",
       "       warm_start=False))])"
      ]
     },
     "execution_count": 73,
     "metadata": {},
     "output_type": "execute_result"
    }
   ],
   "source": [
    "new_text_clf.fit(X_train,y_train)"
   ]
  },
  {
   "cell_type": "code",
   "execution_count": 74,
   "metadata": {
    "collapsed": false
   },
   "outputs": [
    {
     "data": {
      "text/plain": [
       "0.96153846153846156"
      ]
     },
     "execution_count": 74,
     "metadata": {},
     "output_type": "execute_result"
    }
   ],
   "source": [
    "new_predicted = new_text_clf.predict(X_test)\n",
    "np.mean(new_predicted == y_test)"
   ]
  },
  {
   "cell_type": "code",
   "execution_count": 80,
   "metadata": {
    "collapsed": false
   },
   "outputs": [],
   "source": [
    "from sklearn import metrics\n",
    "#print(metrics.classification_report(y_test, new_predicted,target_names=['0','1]))"
   ]
  },
  {
   "cell_type": "code",
   "execution_count": 81,
   "metadata": {
    "collapsed": false
   },
   "outputs": [
    {
     "data": {
      "text/plain": [
       "array([[16,  0],\n",
       "       [ 1,  9]])"
      ]
     },
     "execution_count": 81,
     "metadata": {},
     "output_type": "execute_result"
    }
   ],
   "source": [
    "metrics.confusion_matrix(new_predicted,y_test)"
   ]
  },
  {
   "cell_type": "code",
   "execution_count": 88,
   "metadata": {
    "collapsed": false
   },
   "outputs": [
    {
     "data": {
      "text/plain": [
       "array([1])"
      ]
     },
     "execution_count": 88,
     "metadata": {},
     "output_type": "execute_result"
    }
   ],
   "source": [
    "new_text_clf.predict([\"reacharge my phone with rs 250 in airtel\"])"
   ]
  },
  {
   "cell_type": "code",
   "execution_count": null,
   "metadata": {
    "collapsed": true
   },
   "outputs": [],
   "source": []
  }
 ],
 "metadata": {
  "kernelspec": {
   "display_name": "Python 3",
   "language": "python",
   "name": "python3"
  },
  "language_info": {
   "codemirror_mode": {
    "name": "ipython",
    "version": 3
   },
   "file_extension": ".py",
   "mimetype": "text/x-python",
   "name": "python",
   "nbconvert_exporter": "python",
   "pygments_lexer": "ipython3",
   "version": "3.5.1"
  }
 },
 "nbformat": 4,
 "nbformat_minor": 0
}
