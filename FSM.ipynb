{
 "cells": [
  {
   "cell_type": "code",
   "execution_count": 1,
   "metadata": {
    "collapsed": true
   },
   "outputs": [],
   "source": [
    "import warnings\n",
    "warnings.filterwarnings('ignore')"
   ]
  },
  {
   "cell_type": "code",
   "execution_count": 2,
   "metadata": {
    "collapsed": true
   },
   "outputs": [],
   "source": [
    "from transitions import Machine"
   ]
  },
  {
   "cell_type": "code",
   "execution_count": 3,
   "metadata": {
    "collapsed": false
   },
   "outputs": [],
   "source": [
    "class SimpleFSM(object):\n",
    "    pass\n",
    "FSM = SimpleFSM"
   ]
  },
  {
   "cell_type": "code",
   "execution_count": 4,
   "metadata": {
    "collapsed": false
   },
   "outputs": [],
   "source": [
    "transitions = [\n",
    "    { 'trigger': 'userDetailsAcquired', 'source': 'getUserDetails', 'dest': 'getCardDetails', 'conditions':'is_userDetailsAcquired'},\n",
    "    { 'trigger': 'cardDetailsAcquired', 'source': 'getCardDetails', 'dest': 'getPayment', 'conditions' : 'is_cardDetailsAcquired'},\n",
    "    { 'trigger': 'paymentReceived', 'source': 'getPayment', 'dest': 'placeOrder', 'conditions' : 'is_paymentReceived'},\n",
    "    { 'trigger': 'orderPlaced', 'source': 'placeOrder', 'dest': 'finish', 'conditions' : 'is_orderPlaced'},\n",
    "    { 'trigger': 'orderPlaced', 'source': 'placeOrder', 'dest': 'deadState', 'conditions' : 'is_orderFailed'}\n",
    "]"
   ]
  },
  {
   "cell_type": "code",
   "execution_count": 5,
   "metadata": {
    "collapsed": true
   },
   "outputs": [],
   "source": [
    "states=['getUserDetails','getCardDetails','deadState','receivePayment','placeOrder','finish']"
   ]
  },
  {
   "cell_type": "code",
   "execution_count": 6,
   "metadata": {
    "collapsed": true
   },
   "outputs": [],
   "source": [
    "machine = Machine(FSM,states=states,transitions=transitions,initial='getUserDetails')"
   ]
  },
  {
   "cell_type": "code",
   "execution_count": null,
   "metadata": {
    "collapsed": false
   },
   "outputs": [],
   "source": []
  }
 ],
 "metadata": {
  "kernelspec": {
   "display_name": "Python 3",
   "language": "python",
   "name": "python3"
  },
  "language_info": {
   "codemirror_mode": {
    "name": "ipython",
    "version": 3
   },
   "file_extension": ".py",
   "mimetype": "text/x-python",
   "name": "python",
   "nbconvert_exporter": "python",
   "pygments_lexer": "ipython3",
   "version": "3.5.1"
  }
 },
 "nbformat": 4,
 "nbformat_minor": 0
}
